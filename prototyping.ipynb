{
 "cells": [
  {
   "cell_type": "code",
   "execution_count": 29,
   "metadata": {},
   "outputs": [
    {
     "ename": "SyntaxError",
     "evalue": "non-default argument follows default argument (4191986823.py, line 1)",
     "output_type": "error",
     "traceback": [
      "\u001b[0;36m  Input \u001b[0;32mIn [29]\u001b[0;36m\u001b[0m\n\u001b[0;31m    def signature(source, dest=\"out/\", /, nonopt, opt=25, *, kwonly, kwonlyOpt=\"alreadythere\"):\u001b[0m\n\u001b[0m                  ^\u001b[0m\n\u001b[0;31mSyntaxError\u001b[0m\u001b[0;31m:\u001b[0m non-default argument follows default argument\n"
     ]
    }
   ],
   "source": [
    "def signature(source, dest=\"out/\", /, opt=25, *, kwonly, kwonlyOpt=\"alreadythere\"):\n",
    "    print(f\"{source=}\")\n",
    "    print(f\"{dest}\")\n",
    "    print(f\"{opt=}\")\n",
    "    print(f\"{kwonly=}\")\n",
    "    print(f\"{kwonlyOpt=}\")\n",
    "    "
   ]
  },
  {
   "cell_type": "code",
   "execution_count": 19,
   "metadata": {},
   "outputs": [
    {
     "name": "stdout",
     "output_type": "stream",
     "text": [
      "source='src'\n",
      "dst\n",
      "opt=17\n",
      "kwonly='sth'\n",
      "kwonlyOpt='alreadythere'\n"
     ]
    }
   ],
   "source": [
    "signature(\"src\", \"dst\", opt=17, kwonly=\"sth\")"
   ]
  },
  {
   "cell_type": "code",
   "execution_count": 20,
   "metadata": {},
   "outputs": [],
   "source": [
    "def signature(source, /, dest, opt=25, *, kwonly, kwopt=None):\n",
    "    print(source)\n",
    "    print(dest)\n",
    "    print(opt)\n",
    "    print(kwonly)\n",
    "    print(kwopt)"
   ]
  },
  {
   "cell_type": "code",
   "execution_count": 21,
   "metadata": {},
   "outputs": [
    {
     "name": "stdout",
     "output_type": "stream",
     "text": [
      "src\n",
      "dest\n",
      "17\n",
      "25\n",
      "None\n"
     ]
    }
   ],
   "source": [
    "signature(\"src\", \"dest\", 17, kwonly=25)"
   ]
  },
  {
   "cell_type": "code",
   "execution_count": 22,
   "metadata": {},
   "outputs": [],
   "source": [
    "from argparse import ArgumentParser"
   ]
  },
  {
   "cell_type": "code",
   "execution_count": 23,
   "metadata": {},
   "outputs": [
    {
     "name": "stdout",
     "output_type": "stream",
     "text": [
      "usage: ipykernel_launcher.py [-h] [--dest DEST] [--opt OPT] --kwonly KWONLY\n",
      "                             [--kwopt KWOPT]\n",
      "                             source [dest] [opt]\n",
      "\n",
      "positional arguments:\n",
      "  source\n",
      "  dest\n",
      "  opt\n",
      "\n",
      "optional arguments:\n",
      "  -h, --help       show this help message and exit\n",
      "  --dest DEST\n",
      "  --opt OPT\n",
      "  --kwonly KWONLY\n",
      "  --kwopt KWOPT\n"
     ]
    }
   ],
   "source": [
    "p = ArgumentParser()\n",
    "p.add_argument(\"source\")\n",
    "g = p.add_mutually_exclusive_group(required=True)\n",
    "\n",
    "g.add_argument(\"dest\", nargs=\"?\")\n",
    "g.add_argument(\"--dest\")\n",
    "\n",
    "g2 = p.add_mutually_exclusive_group(required=False)\n",
    "\n",
    "g2.add_argument(\"opt\", nargs=\"?\", default=25)\n",
    "g2.add_argument(\"--opt\", default=25)\n",
    "\n",
    "p.add_argument(\"--kwonly\", required=True)\n",
    "p.add_argument(\"--kwopt\", default=None)\n",
    "\n",
    "p.print_help()"
   ]
  },
  {
   "cell_type": "code",
   "execution_count": 28,
   "metadata": {},
   "outputs": [
    {
     "data": {
      "text/plain": [
       "Namespace(dest='out/', kwonly='NaN', kwopt=None, opt='35', source='src')"
      ]
     },
     "execution_count": 28,
     "metadata": {},
     "output_type": "execute_result"
    }
   ],
   "source": [
    "p.parse_args(\"src --opt=35 --kwonly=NaN --dest out/\".split(\" \"))"
   ]
  },
  {
   "cell_type": "code",
   "execution_count": 30,
   "metadata": {},
   "outputs": [],
   "source": [
    "def signature(/, a, b):\n",
    "    pass"
   ]
  },
  {
   "cell_type": "code",
   "execution_count": 33,
   "metadata": {},
   "outputs": [],
   "source": [
    "import inspect"
   ]
  },
  {
   "cell_type": "code",
   "execution_count": 35,
   "metadata": {},
   "outputs": [
    {
     "data": {
      "text/plain": [
       "<_ParameterKind.KEYWORD_ONLY: 3>"
      ]
     },
     "execution_count": 35,
     "metadata": {},
     "output_type": "execute_result"
    }
   ],
   "source": [
    "s = inspect.signature(signature)\n",
    "params = s.parameters\n",
    "params['b'].kind"
   ]
  },
  {
   "cell_type": "code",
   "execution_count": 72,
   "metadata": {},
   "outputs": [],
   "source": [
    "import argparse\n",
    "\n",
    "class StoreOnce(argparse.Action):\n",
    "\n",
    "    def __call__(self, parser, namespace, values, option_string=None):\n",
    "        print(namespace, values)\n",
    "        if getattr(namespace, self.dest, self.default) == self.default:\n",
    "            setattr(namespace, self.dest, values)"
   ]
  },
  {
   "cell_type": "code",
   "execution_count": 88,
   "metadata": {},
   "outputs": [],
   "source": [
    "def add_both(parser, name, required=False, default=None):\n",
    "    g = parser.add_mutually_exclusive_group(required=required)\n",
    "    \n",
    "    g.add_argument(name, nargs='?', default=default, action=StoreOnce)\n",
    "    g.add_argument(\"--\" + name, default=default, action=StoreOnce)\n",
    "    \n",
    "\n",
    "    return parser"
   ]
  },
  {
   "cell_type": "code",
   "execution_count": 89,
   "metadata": {},
   "outputs": [
    {
     "name": "stdout",
     "output_type": "stream",
     "text": [
      "usage: ipykernel_launcher.py [-h] [--dest DEST] src [dest]\n",
      "\n",
      "positional arguments:\n",
      "  src\n",
      "  dest\n",
      "\n",
      "optional arguments:\n",
      "  -h, --help   show this help message and exit\n",
      "  --dest DEST\n"
     ]
    },
    {
     "data": {
      "text/plain": [
       "Namespace(dest=None, src='source')"
      ]
     },
     "execution_count": 89,
     "metadata": {},
     "output_type": "execute_result"
    }
   ],
   "source": [
    "p = ArgumentParser()\n",
    "p.add_argument(\"src\")\n",
    "add_both(p, \"dest\", required=False, default=\"out/\")\n",
    "\n",
    "p.print_help()\n",
    "p.parse_args([\"--dest=STH\", \"source\"])"
   ]
  },
  {
   "cell_type": "code",
   "execution_count": null,
   "metadata": {},
   "outputs": [],
   "source": []
  }
 ],
 "metadata": {
  "interpreter": {
   "hash": "5f6fe24207981e435f7ffa08e1044bd9a772ded936282182b0174361e1c1217c"
  },
  "kernelspec": {
   "display_name": "Python 3.8.12 ('jaspar')",
   "language": "python",
   "name": "python3"
  },
  "language_info": {
   "codemirror_mode": {
    "name": "ipython",
    "version": 3
   },
   "file_extension": ".py",
   "mimetype": "text/x-python",
   "name": "python",
   "nbconvert_exporter": "python",
   "pygments_lexer": "ipython3",
   "version": "3.8.12"
  },
  "orig_nbformat": 4
 },
 "nbformat": 4,
 "nbformat_minor": 2
}
